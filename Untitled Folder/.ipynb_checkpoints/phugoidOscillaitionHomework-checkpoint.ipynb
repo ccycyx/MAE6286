{
 "cells": [
  {
   "cell_type": "code",
   "execution_count": 2,
   "metadata": {},
   "outputs": [
    {
     "data": {
      "text/plain": [
       "array([0.000e+00, 2.000e-02, 4.000e-02, ..., 9.996e+01, 9.998e+01,\n",
       "       1.000e+02])"
      ]
     },
     "execution_count": 2,
     "metadata": {},
     "output_type": "execute_result"
    }
   ],
   "source": [
    "# challenge 1\n",
    "import numpy\n",
    "from matplotlib import pyplot\n",
    "T = 100.0\n",
    "dt = 0.02\n",
    "t = numpy.arange(0.0, T+dt, dt)\n",
    "t"
   ]
  },
  {
   "cell_type": "code",
   "execution_count": 3,
   "metadata": {},
   "outputs": [
    {
     "data": {
      "image/png": "[encoded data removed]",
      "text/plain": [
       "<Figure size 432x432 with 1 Axes>"
      ]
     },
     "metadata": {},
     "output_type": "display_data"
    }
   ],
   "source": [
    "# chanllenge2 \n",
    "import numpy\n",
    "from matplotlib import pyplot\n",
    "\n",
    "# the time-step sizes\n",
    "dtValues = [0.1, 0.05, 0.01, 0.005, 0.001, 0.0001]\n",
    "# the array to store error\n",
    "errorArray = []\n",
    "\n",
    "# initial conditions\n",
    "# length of time interval\n",
    "T = 100.0\n",
    "# origin height\n",
    "z0 = 100.0\n",
    "# upward speed\n",
    "b0 = 10.0\n",
    "# trim height\n",
    "zt = 100.0\n",
    "# g\n",
    "g = 9.81\n",
    "\n",
    "\n",
    "# Euler method function\n",
    "def euler_method(dt, z0, b0):\n",
    "    # the number of points\n",
    "    n = int(T/dt) + 1\n",
    "    # set the initial value for the numerical solution\n",
    "    u = numpy.array([z0, b0])\n",
    "    # z to store the value\n",
    "    z = numpy.zeros(n)\n",
    "    z[0] = z0\n",
    "    for i in range(n):\n",
    "        z[i] = u[0] + dt * u[1]\n",
    "        u[1] = u[1] + dt * (g - g * u[0] / zt)\n",
    "        u[0] = z[i]\n",
    "    return z\n",
    "\n",
    "\n",
    "# function to calculate the analytical result\n",
    "def analytical_method(dt, z0, b0):\n",
    "    # the number of points\n",
    "    n = int(T/dt) + 1\n",
    "    t = numpy.arange(0.0, T + dt, dt)\n",
    "    z_exact = (b0 * (zt / g) ** 0.5 * numpy.sin((g / zt) ** 0.5 * t) +\n",
    "               (z0 - zt) * numpy.cos((g / zt) ** 0.5 * t) + zt)\n",
    "    return z_exact\n",
    "\n",
    "\n",
    "# function to calculate L1-norm error\n",
    "def l1_error(dt, z, z_exact):\n",
    "    error = dt*numpy.sum(numpy.abs(z-z_exact))\n",
    "    return error\n",
    "\n",
    "\n",
    "# calculate error\n",
    "for dt in dtValues:\n",
    "    # calculate numerical results and the analytical results\n",
    "    z = euler_method(dt, z0, b0)\n",
    "    z_exact = analytical_method(dt, z0, b0)\n",
    "    # calculate the error\n",
    "    error = l1_error(dt, z, z_exact)\n",
    "    errorArray.append(error)\n",
    "\n",
    "# plot the figure of error-dt\n",
    "pyplot.figure(figsize=(6.0, 6.0))\n",
    "pyplot.title('L1-norm error vs. time-step size')\n",
    "pyplot.xlabel('time-step size')\n",
    "pyplot.ylabel('L1-norm error')\n",
    "pyplot.grid()\n",
    "pyplot.loglog(dtValues, errorArray, color='C0', linestyle='--', marker='o')\n",
    "pyplot.axis('equal')\n",
    "pyplot.show()\n",
    "\n",
    "\n"
   ]
  },
  {
   "cell_type": "code",
   "execution_count": null,
   "metadata": {},
   "outputs": [],
   "source": []
  }
 ],
 "metadata": {
  "kernelspec": {
   "display_name": "Python 3",
   "language": "python",
   "name": "python3"
  },
  "language_info": {
   "codemirror_mode": {
    "name": "ipython",
    "version": 3
   },
   "file_extension": ".py",
   "mimetype": "text/x-python",
   "name": "python",
   "nbconvert_exporter": "python",
   "pygments_lexer": "ipython3",
   "version": "3.6.2"
  }
 },
 "nbformat": 4,
 "nbformat_minor": 2
}
